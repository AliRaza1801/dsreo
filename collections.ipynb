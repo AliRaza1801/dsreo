{
  "nbformat": 4,
  "nbformat_minor": 0,
  "metadata": {
    "colab": {
      "name": "collections.ipynb",
      "provenance": [],
      "collapsed_sections": [],
      "toc_visible": true,
      "authorship_tag": "ABX9TyMgv6VheyIwOkXfrKQwFx5+",
      "include_colab_link": true
    },
    "kernelspec": {
      "name": "python3",
      "display_name": "Python 3"
    }
  },
  "cells": [
    {
      "cell_type": "markdown",
      "metadata": {
        "id": "view-in-github",
        "colab_type": "text"
      },
      "source": [
        "<a href=\"https://colab.research.google.com/github/AliRaza1801/dsrepo/blob/main/collections.ipynb\" target=\"_parent\"><img src=\"https://colab.research.google.com/assets/colab-badge.svg\" alt=\"Open In Colab\"/></a>"
      ]
    },
    {
      "cell_type": "code",
      "metadata": {
        "id": "EDz84t18hY_x",
        "colab": {
          "base_uri": "https://localhost:8080/"
        },
        "outputId": "17981618-78ca-4244-b42d-29837186dca6"
      },
      "source": [
        "print('dsfdfv')"
      ],
      "execution_count": 1,
      "outputs": [
        {
          "output_type": "stream",
          "text": [
            "dsfdfv\n"
          ],
          "name": "stdout"
        }
      ]
    },
    {
      "cell_type": "code",
      "metadata": {
        "id": "4f8QSH0OheTB",
        "colab": {
          "base_uri": "https://localhost:8080/"
        },
        "outputId": "066bb89f-c8a1-4a01-d165-402f27ddf14b"
      },
      "source": [
        "print(round(3/2,2))"
      ],
      "execution_count": null,
      "outputs": [
        {
          "output_type": "stream",
          "text": [
            "1.5\n"
          ],
          "name": "stdout"
        }
      ]
    },
    {
      "cell_type": "code",
      "metadata": {
        "colab": {
          "base_uri": "https://localhost:8080/"
        },
        "id": "f47GyzXcw6vL",
        "outputId": "f81a0bd9-173f-4a5d-ccac-3797671f92ee"
      },
      "source": [
        "print('hello',end=' ')\r\n",
        "print('ali',end='\\t')\r\n",
        "print('hello ',end='\\n')\r\n",
        "print('name ',end='')"
      ],
      "execution_count": null,
      "outputs": [
        {
          "output_type": "stream",
          "text": [
            "hello ali\thello \n",
            "name "
          ],
          "name": "stdout"
        }
      ]
    },
    {
      "cell_type": "code",
      "metadata": {
        "colab": {
          "base_uri": "https://localhost:8080/"
        },
        "id": "kl-AHPIl5TwN",
        "outputId": "2e750c3c-fe93-4de9-a1e0-a042a0e6fcc3"
      },
      "source": [
        "fruits = (\"apple\", \"banana\", \"cherry\", \"strawberry\", \"raspberry\")\r\n",
        "\r\n",
        "(green, yellow, *red) = fruits\r\n",
        "\r\n",
        "print(green)\r\n",
        "print(yellow)\r\n",
        "print(red)"
      ],
      "execution_count": null,
      "outputs": [
        {
          "output_type": "stream",
          "text": [
            "apple\n",
            "banana\n",
            "['cherry', 'strawberry', 'raspberry']\n"
          ],
          "name": "stdout"
        }
      ]
    },
    {
      "cell_type": "code",
      "metadata": {
        "id": "rt-CrfWb8d7u",
        "colab": {
          "base_uri": "https://localhost:8080/"
        },
        "outputId": "59fd9e31-a043-4c24-d99a-1793d0d13fe0"
      },
      "source": [
        "set1={1,2,3,4}\r\n",
        "set1.discard(5)\r\n",
        "set1.remove(5)\r\n",
        "print(set1)"
      ],
      "execution_count": null,
      "outputs": [
        {
          "output_type": "stream",
          "text": [
            "{1, 2, 3, 4}\n"
          ],
          "name": "stdout"
        }
      ]
    },
    {
      "cell_type": "code",
      "metadata": {
        "colab": {
          "base_uri": "https://localhost:8080/"
        },
        "id": "GBKi9v4yVxnz",
        "outputId": "62f416cd-a6b7-4a40-d2aa-5b03e81b5c05"
      },
      "source": [
        "d={1:{2:3,4:5},'p':'q','q':{'w':9,'l':0}}\r\n",
        "d[1][2]"
      ],
      "execution_count": null,
      "outputs": [
        {
          "output_type": "execute_result",
          "data": {
            "text/plain": [
              "3"
            ]
          },
          "metadata": {
            "tags": []
          },
          "execution_count": 4
        }
      ]
    },
    {
      "cell_type": "code",
      "metadata": {
        "colab": {
          "base_uri": "https://localhost:8080/",
          "height": 626
        },
        "id": "GImgnbVEcCxk",
        "outputId": "9ad0897d-a1b1-4bdd-f225-8cde71bccf6b"
      },
      "source": [
        "f=open('check.txt','r+')\r\n",
        "print(f.read())\r\n",
        "f.close()\r\n",
        "import pandas as pd\r\n",
        "pd.read_csv('https://raw.githubusercontent.com/AliRaza1801/dsrepo/main/Orders-With%20Nulls.csv','r+')\r\n",
        "# f=open('https://raw.githubusercontent.com/AliRaza1801/dsrepo/main/check.txt','r+')\r\n",
        "# print(f.read())\r\n",
        "# f.close()"
      ],
      "execution_count": null,
      "outputs": [
        {
          "output_type": "stream",
          "text": [
            "{\"B\": \"{\\\"b\\\": 1, \\\"c\\\": 2}\"}\n",
            "{\"C\": \"{\\\"c\\\": 1, \\\"d\\\": 2}\"}\n",
            "\n"
          ],
          "name": "stdout"
        },
        {
          "output_type": "stream",
          "text": [
            "/usr/local/lib/python3.6/dist-packages/ipykernel_launcher.py:5: ParserWarning: Falling back to the 'python' engine because the 'c' engine does not support regex separators (separators > 1 char and different from '\\s+' are interpreted as regex); you can avoid this warning by specifying engine='python'.\n",
            "  \"\"\"\n"
          ],
          "name": "stderr"
        },
        {
          "output_type": "execute_result",
          "data": {
            "text/html": [
              "<div>\n",
              "<style scoped>\n",
              "    .dataframe tbody tr th:only-of-type {\n",
              "        vertical-align: middle;\n",
              "    }\n",
              "\n",
              "    .dataframe tbody tr th {\n",
              "        vertical-align: top;\n",
              "    }\n",
              "\n",
              "    .dataframe thead th {\n",
              "        text-align: right;\n",
              "    }\n",
              "</style>\n",
              "<table border=\"1\" class=\"dataframe\">\n",
              "  <thead>\n",
              "    <tr style=\"text-align: right;\">\n",
              "      <th></th>\n",
              "      <th>O</th>\n",
              "      <th>de</th>\n",
              "      <th>ID,O</th>\n",
              "      <th>de.1</th>\n",
              "      <th>Date,O</th>\n",
              "      <th>de.2</th>\n",
              "      <th>Quantity,Sales,Ship Mode,P</th>\n",
              "      <th>ofit,Unit P</th>\n",
              "      <th>ice,Custome</th>\n",
              "      <th>Name,Custome</th>\n",
              "      <th>Segment,P</th>\n",
              "      <th>oduct Catego</th>\n",
              "      <th>y</th>\n",
              "    </tr>\n",
              "  </thead>\n",
              "  <tbody>\n",
              "    <tr>\n",
              "      <th>0</th>\n",
              "      <td>3,10/13/2010,6,261.54,Regula</td>\n",
              "      <td>Ai</td>\n",
              "      <td>,-213.25,38.94,Muhammed MacInty</td>\n",
              "      <td>e,Small Business,Office Supplies</td>\n",
              "      <td>None</td>\n",
              "      <td>None</td>\n",
              "      <td>None</td>\n",
              "      <td>None</td>\n",
              "      <td>None</td>\n",
              "      <td>NaN</td>\n",
              "      <td>NaN</td>\n",
              "      <td>NaN</td>\n",
              "      <td>NaN</td>\n",
              "    </tr>\n",
              "    <tr>\n",
              "      <th>1</th>\n",
              "      <td>6,2/20/2012,2,6.93,Regula</td>\n",
              "      <td>Ai</td>\n",
              "      <td>,-4.64,2.08,Ruben Da</td>\n",
              "      <td>tt,Co</td>\n",
              "      <td>po</td>\n",
              "      <td>ate,Office Supplies</td>\n",
              "      <td>None</td>\n",
              "      <td>None</td>\n",
              "      <td>None</td>\n",
              "      <td>NaN</td>\n",
              "      <td>NaN</td>\n",
              "      <td>NaN</td>\n",
              "      <td>NaN</td>\n",
              "    </tr>\n",
              "    <tr>\n",
              "      <th>2</th>\n",
              "      <td>32,7/15/2011,26,2808.08,Regula</td>\n",
              "      <td>Ai</td>\n",
              "      <td>,1054.82,107.53,Liz Pelletie</td>\n",
              "      <td>,Co</td>\n",
              "      <td>po</td>\n",
              "      <td>ate,Fu</td>\n",
              "      <td>nitu</td>\n",
              "      <td>e</td>\n",
              "      <td>None</td>\n",
              "      <td>NaN</td>\n",
              "      <td>NaN</td>\n",
              "      <td>NaN</td>\n",
              "      <td>NaN</td>\n",
              "    </tr>\n",
              "    <tr>\n",
              "      <th>3</th>\n",
              "      <td>32,7/15/2011,24,1761.4,Delive</td>\n",
              "      <td>y T</td>\n",
              "      <td>uck,-1748.56,70.89,Liz Pelletie</td>\n",
              "      <td>,Co</td>\n",
              "      <td>po</td>\n",
              "      <td>ate,Fu</td>\n",
              "      <td>nitu</td>\n",
              "      <td>e</td>\n",
              "      <td>None</td>\n",
              "      <td>NaN</td>\n",
              "      <td>NaN</td>\n",
              "      <td>NaN</td>\n",
              "      <td>NaN</td>\n",
              "    </tr>\n",
              "    <tr>\n",
              "      <th>4</th>\n",
              "      <td>32,7/15/2011,23,160.2335,Regula</td>\n",
              "      <td>Ai</td>\n",
              "      <td>,-85.13,7.99,Liz Pelletie</td>\n",
              "      <td>,Co</td>\n",
              "      <td>po</td>\n",
              "      <td>ate,Technology</td>\n",
              "      <td>None</td>\n",
              "      <td>None</td>\n",
              "      <td>None</td>\n",
              "      <td>NaN</td>\n",
              "      <td>NaN</td>\n",
              "      <td>NaN</td>\n",
              "      <td>NaN</td>\n",
              "    </tr>\n",
              "    <tr>\n",
              "      <th>...</th>\n",
              "      <td>...</td>\n",
              "      <td>...</td>\n",
              "      <td>...</td>\n",
              "      <td>...</td>\n",
              "      <td>...</td>\n",
              "      <td>...</td>\n",
              "      <td>...</td>\n",
              "      <td>...</td>\n",
              "      <td>...</td>\n",
              "      <td>...</td>\n",
              "      <td>...</td>\n",
              "      <td>...</td>\n",
              "      <td>...</td>\n",
              "    </tr>\n",
              "    <tr>\n",
              "      <th>8402</th>\n",
              "      <td>,,,,,,,,,</td>\n",
              "      <td>None</td>\n",
              "      <td>None</td>\n",
              "      <td>None</td>\n",
              "      <td>None</td>\n",
              "      <td>None</td>\n",
              "      <td>None</td>\n",
              "      <td>None</td>\n",
              "      <td>None</td>\n",
              "      <td>NaN</td>\n",
              "      <td>NaN</td>\n",
              "      <td>NaN</td>\n",
              "      <td>NaN</td>\n",
              "    </tr>\n",
              "    <tr>\n",
              "      <th>8403</th>\n",
              "      <td>,,,,,,,,,</td>\n",
              "      <td>None</td>\n",
              "      <td>None</td>\n",
              "      <td>None</td>\n",
              "      <td>None</td>\n",
              "      <td>None</td>\n",
              "      <td>None</td>\n",
              "      <td>None</td>\n",
              "      <td>None</td>\n",
              "      <td>NaN</td>\n",
              "      <td>NaN</td>\n",
              "      <td>NaN</td>\n",
              "      <td>NaN</td>\n",
              "    </tr>\n",
              "    <tr>\n",
              "      <th>8404</th>\n",
              "      <td>,,,,,,,,,</td>\n",
              "      <td>None</td>\n",
              "      <td>None</td>\n",
              "      <td>None</td>\n",
              "      <td>None</td>\n",
              "      <td>None</td>\n",
              "      <td>None</td>\n",
              "      <td>None</td>\n",
              "      <td>None</td>\n",
              "      <td>NaN</td>\n",
              "      <td>NaN</td>\n",
              "      <td>NaN</td>\n",
              "      <td>NaN</td>\n",
              "    </tr>\n",
              "    <tr>\n",
              "      <th>8405</th>\n",
              "      <td>,,,,,,,,,</td>\n",
              "      <td>None</td>\n",
              "      <td>None</td>\n",
              "      <td>None</td>\n",
              "      <td>None</td>\n",
              "      <td>None</td>\n",
              "      <td>None</td>\n",
              "      <td>None</td>\n",
              "      <td>None</td>\n",
              "      <td>NaN</td>\n",
              "      <td>NaN</td>\n",
              "      <td>NaN</td>\n",
              "      <td>NaN</td>\n",
              "    </tr>\n",
              "    <tr>\n",
              "      <th>8406</th>\n",
              "      <td>,,,,,,,,,</td>\n",
              "      <td>None</td>\n",
              "      <td>None</td>\n",
              "      <td>None</td>\n",
              "      <td>None</td>\n",
              "      <td>None</td>\n",
              "      <td>None</td>\n",
              "      <td>None</td>\n",
              "      <td>None</td>\n",
              "      <td>NaN</td>\n",
              "      <td>NaN</td>\n",
              "      <td>NaN</td>\n",
              "      <td>NaN</td>\n",
              "    </tr>\n",
              "  </tbody>\n",
              "</table>\n",
              "<p>8407 rows × 13 columns</p>\n",
              "</div>"
            ],
            "text/plain": [
              "                                    O    de  ... oduct Catego   y\n",
              "0        3,10/13/2010,6,261.54,Regula    Ai  ...          NaN NaN\n",
              "1           6,2/20/2012,2,6.93,Regula    Ai  ...          NaN NaN\n",
              "2      32,7/15/2011,26,2808.08,Regula    Ai  ...          NaN NaN\n",
              "3       32,7/15/2011,24,1761.4,Delive   y T  ...          NaN NaN\n",
              "4     32,7/15/2011,23,160.2335,Regula    Ai  ...          NaN NaN\n",
              "...                               ...   ...  ...          ...  ..\n",
              "8402                        ,,,,,,,,,  None  ...          NaN NaN\n",
              "8403                        ,,,,,,,,,  None  ...          NaN NaN\n",
              "8404                        ,,,,,,,,,  None  ...          NaN NaN\n",
              "8405                        ,,,,,,,,,  None  ...          NaN NaN\n",
              "8406                        ,,,,,,,,,  None  ...          NaN NaN\n",
              "\n",
              "[8407 rows x 13 columns]"
            ]
          },
          "metadata": {
            "tags": []
          },
          "execution_count": 19
        }
      ]
    },
    {
      "cell_type": "code",
      "metadata": {
        "id": "XOH6qR_bkVLu",
        "colab": {
          "base_uri": "https://localhost:8080/",
          "height": 367
        },
        "outputId": "1a972393-d99d-4cda-f07c-b655419719ad"
      },
      "source": [
        "import pandas as pd\r\n",
        "ex=pd.read_csv(\"https://raw.githubusercontent.com/AliRaza1801/dsrepo/main/check.txt\")\r\n",
        "print(ex)\r\n",
        "print(type(ex))\r\n",
        "print(ex.dtype())"
      ],
      "execution_count": 6,
      "outputs": [
        {
          "output_type": "stream",
          "text": [
            "   {\"B\": \"{\\\"b\\\": 1   \\\"c\\\": 2}\"}\n",
            "0  {\"C\": \"{\\\"c\\\": 1   \\\"d\\\": 2}\"}\n",
            "<class 'pandas.core.frame.DataFrame'>\n"
          ],
          "name": "stdout"
        },
        {
          "output_type": "error",
          "ename": "AttributeError",
          "evalue": "ignored",
          "traceback": [
            "\u001b[0;31m---------------------------------------------------------------------------\u001b[0m",
            "\u001b[0;31mAttributeError\u001b[0m                            Traceback (most recent call last)",
            "\u001b[0;32m<ipython-input-6-1afe37e3c514>\u001b[0m in \u001b[0;36m<module>\u001b[0;34m()\u001b[0m\n\u001b[1;32m      3\u001b[0m \u001b[0mprint\u001b[0m\u001b[0;34m(\u001b[0m\u001b[0mex\u001b[0m\u001b[0;34m)\u001b[0m\u001b[0;34m\u001b[0m\u001b[0;34m\u001b[0m\u001b[0m\n\u001b[1;32m      4\u001b[0m \u001b[0mprint\u001b[0m\u001b[0;34m(\u001b[0m\u001b[0mtype\u001b[0m\u001b[0;34m(\u001b[0m\u001b[0mex\u001b[0m\u001b[0;34m)\u001b[0m\u001b[0;34m)\u001b[0m\u001b[0;34m\u001b[0m\u001b[0;34m\u001b[0m\u001b[0m\n\u001b[0;32m----> 5\u001b[0;31m \u001b[0mprint\u001b[0m\u001b[0;34m(\u001b[0m\u001b[0mex\u001b[0m\u001b[0;34m.\u001b[0m\u001b[0mdtype\u001b[0m\u001b[0;34m(\u001b[0m\u001b[0;34m)\u001b[0m\u001b[0;34m)\u001b[0m\u001b[0;34m\u001b[0m\u001b[0;34m\u001b[0m\u001b[0m\n\u001b[0m",
            "\u001b[0;32m/usr/local/lib/python3.6/dist-packages/pandas/core/generic.py\u001b[0m in \u001b[0;36m__getattr__\u001b[0;34m(self, name)\u001b[0m\n\u001b[1;32m   5139\u001b[0m             \u001b[0;32mif\u001b[0m \u001b[0mself\u001b[0m\u001b[0;34m.\u001b[0m\u001b[0m_info_axis\u001b[0m\u001b[0;34m.\u001b[0m\u001b[0m_can_hold_identifiers_and_holds_name\u001b[0m\u001b[0;34m(\u001b[0m\u001b[0mname\u001b[0m\u001b[0;34m)\u001b[0m\u001b[0;34m:\u001b[0m\u001b[0;34m\u001b[0m\u001b[0;34m\u001b[0m\u001b[0m\n\u001b[1;32m   5140\u001b[0m                 \u001b[0;32mreturn\u001b[0m \u001b[0mself\u001b[0m\u001b[0;34m[\u001b[0m\u001b[0mname\u001b[0m\u001b[0;34m]\u001b[0m\u001b[0;34m\u001b[0m\u001b[0;34m\u001b[0m\u001b[0m\n\u001b[0;32m-> 5141\u001b[0;31m             \u001b[0;32mreturn\u001b[0m \u001b[0mobject\u001b[0m\u001b[0;34m.\u001b[0m\u001b[0m__getattribute__\u001b[0m\u001b[0;34m(\u001b[0m\u001b[0mself\u001b[0m\u001b[0;34m,\u001b[0m \u001b[0mname\u001b[0m\u001b[0;34m)\u001b[0m\u001b[0;34m\u001b[0m\u001b[0;34m\u001b[0m\u001b[0m\n\u001b[0m\u001b[1;32m   5142\u001b[0m \u001b[0;34m\u001b[0m\u001b[0m\n\u001b[1;32m   5143\u001b[0m     \u001b[0;32mdef\u001b[0m \u001b[0m__setattr__\u001b[0m\u001b[0;34m(\u001b[0m\u001b[0mself\u001b[0m\u001b[0;34m,\u001b[0m \u001b[0mname\u001b[0m\u001b[0;34m:\u001b[0m \u001b[0mstr\u001b[0m\u001b[0;34m,\u001b[0m \u001b[0mvalue\u001b[0m\u001b[0;34m)\u001b[0m \u001b[0;34m->\u001b[0m \u001b[0;32mNone\u001b[0m\u001b[0;34m:\u001b[0m\u001b[0;34m\u001b[0m\u001b[0;34m\u001b[0m\u001b[0m\n",
            "\u001b[0;31mAttributeError\u001b[0m: 'DataFrame' object has no attribute 'dtype'"
          ]
        }
      ]
    },
    {
      "cell_type": "code",
      "metadata": {
        "colab": {
          "base_uri": "https://localhost:8080/"
        },
        "id": "4-phSO49-Mjj",
        "outputId": "df477bc8-166d-4188-ac5a-b43f6616d724"
      },
      "source": [
        "from collections import Counter\r\n",
        "a='ali raza'\r\n",
        "print(dict(Counter(a)))\r\n"
      ],
      "execution_count": 8,
      "outputs": [
        {
          "output_type": "stream",
          "text": [
            "{'a': 3, 'l': 1, 'i': 1, ' ': 1, 'r': 1, 'z': 1}\n"
          ],
          "name": "stdout"
        }
      ]
    },
    {
      "cell_type": "code",
      "metadata": {
        "colab": {
          "base_uri": "https://localhost:8080/"
        },
        "id": "LmI9J5ocDXZ_",
        "outputId": "7d170375-a13c-441f-de72-25a507a6ac5e"
      },
      "source": [
        "from collections import deque\r\n",
        "x=deque([1,2,3,3,4,2,4])\r\n",
        "print(x.index(3,3,6))\r\n",
        "x.rotate(-3)\r\n",
        "print(x)\r\n"
      ],
      "execution_count": 32,
      "outputs": [
        {
          "output_type": "stream",
          "text": [
            "3\n",
            "deque([3, 4, 2, 4, 1, 2, 3])\n"
          ],
          "name": "stdout"
        }
      ]
    },
    {
      "cell_type": "code",
      "metadata": {
        "id": "KBvJk43lZ3s0"
      },
      "source": [
        ""
      ],
      "execution_count": null,
      "outputs": []
    }
  ]
}