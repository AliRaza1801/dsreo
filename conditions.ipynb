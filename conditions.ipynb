{
  "nbformat": 4,
  "nbformat_minor": 0,
  "metadata": {
    "colab": {
      "name": "conditions.ipynb",
      "provenance": [],
      "authorship_tag": "ABX9TyMFB2md38OThELvVMjokHcP",
      "include_colab_link": true
    },
    "kernelspec": {
      "name": "python3",
      "display_name": "Python 3"
    }
  },
  "cells": [
    {
      "cell_type": "markdown",
      "metadata": {
        "id": "view-in-github",
        "colab_type": "text"
      },
      "source": [
        "<a href=\"https://colab.research.google.com/github/AliRaza1801/dsrepo/blob/main/conditions.ipynb\" target=\"_parent\"><img src=\"https://colab.research.google.com/assets/colab-badge.svg\" alt=\"Open In Colab\"/></a>"
      ]
    },
    {
      "cell_type": "code",
      "metadata": {
        "colab": {
          "base_uri": "https://localhost:8080/"
        },
        "id": "-2s80HdhQnQc",
        "outputId": "56d3ea33-730a-46ab-8fe5-3337f1a4fd6d"
      },
      "source": [
        "name = \"ali\"\r\n",
        "age = 23\r\n",
        "if age > 20:\r\n",
        "  print(\"Hello , %s you are not eligible for License\" %(name))\r\n",
        "else:\r\n",
        "  print((\"Hello , %s you are eligible for License\" %(name)))"
      ],
      "execution_count": 1,
      "outputs": [
        {
          "output_type": "stream",
          "text": [
            "Hello , ali you are not eligible for License\n"
          ],
          "name": "stdout"
        }
      ]
    }
  ]
}