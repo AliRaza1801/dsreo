{
  "nbformat": 4,
  "nbformat_minor": 0,
  "metadata": {
    "colab": {
      "name": "firstclass.ipynb",
      "provenance": [],
      "authorship_tag": "ABX9TyPRUdQLB1hlGx5jUkbv/stx",
      "include_colab_link": true
    },
    "kernelspec": {
      "name": "python3",
      "display_name": "Python 3"
    }
  },
  "cells": [
    {
      "cell_type": "markdown",
      "metadata": {
        "id": "view-in-github",
        "colab_type": "text"
      },
      "source": [
        "<a href=\"https://colab.research.google.com/github/AliRaza1801/dsrepo/blob/main/firstclass.ipynb\" target=\"_parent\"><img src=\"https://colab.research.google.com/assets/colab-badge.svg\" alt=\"Open In Colab\"/></a>"
      ]
    },
    {
      "cell_type": "code",
      "metadata": {
        "colab": {
          "base_uri": "https://localhost:8080/"
        },
        "id": "Sxjv1xTo7Rr8",
        "outputId": "139658ca-46d0-4266-a8c4-2d4295b8f5af"
      },
      "source": [
        "class Mazaher:\r\n",
        "  def __init__(abc,age,weight,number):\r\n",
        "    abc.age=age\r\n",
        "    abc.weight=weight\r\n",
        "    abc.number=number\r\n",
        "    print(\"age\",age)\r\n",
        "    print(\"weight\",weight)\r\n",
        "  def __add__(abc,other):\r\n",
        "    sum=other.number+abc.number\r\n",
        "    return sum\r\n",
        "hell=Mazaher(23,45,8)\r\n",
        "hi=Mazaher(25,50,12)\r\n",
        "print(hell+hi)"
      ],
      "execution_count": 6,
      "outputs": [
        {
          "output_type": "stream",
          "text": [
            "age 23\n",
            "weight 45\n",
            "age 25\n",
            "weight 50\n",
            "20\n"
          ],
          "name": "stdout"
        }
      ]
    }
  ]
}