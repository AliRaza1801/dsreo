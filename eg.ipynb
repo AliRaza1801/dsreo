{
  "nbformat": 4,
  "nbformat_minor": 0,
  "metadata": {
    "colab": {
      "name": "Untitled0.ipynb",
      "provenance": [],
      "collapsed_sections": [],
      "authorship_tag": "ABX9TyNeT0zzDnw4C/aEhcAXpCUX",
      "include_colab_link": true
    },
    "kernelspec": {
      "name": "python3",
      "display_name": "Python 3"
    }
  },
  "cells": [
    {
      "cell_type": "markdown",
      "metadata": {
        "id": "view-in-github",
        "colab_type": "text"
      },
      "source": [
        "<a href=\"https://colab.research.google.com/github/AliRaza1801/dsrepo/blob/main/eg.ipynb\" target=\"_parent\"><img src=\"https://colab.research.google.com/assets/colab-badge.svg\" alt=\"Open In Colab\"/></a>"
      ]
    },
    {
      "cell_type": "code",
      "metadata": {
        "id": "YPWpnl8ge79B",
        "colab": {
          "base_uri": "https://localhost:8080/"
        },
        "outputId": "88563024-1247-4689-e6f6-b8042231253b"
      },
      "source": [
        "def f(l):\r\n",
        "  l\r\n",
        "  print(l)\r\n",
        "abc=2\r\n",
        "f(abc)\r\n",
        "print(abc)"
      ],
      "execution_count": null,
      "outputs": [
        {
          "output_type": "stream",
          "text": [
            "['a', 'b', 'c', 'a']\n",
            "['a', 'b', 'c', 'a']\n"
          ],
          "name": "stdout"
        }
      ]
    },
    {
      "cell_type": "code",
      "metadata": {
        "id": "ClFAZN6i1_cx",
        "colab": {
          "base_uri": "https://localhost:8080/",
          "height": 35
        },
        "outputId": "c206d501-0ef7-4cde-fe13-999855717bca"
      },
      "source": [
        "class ab:\r\n",
        "  __b='name'\r\n",
        "  _bb='new'\r\n",
        "  bbb=__b\r\n",
        "  m=_bb\r\n",
        "  def __init__(x,name=None,age=None):\r\n",
        "    x.name='ali'\r\n",
        "    x.age=12\r\n",
        "a=ab()\r\n",
        "a.m"
      ],
      "execution_count": 5,
      "outputs": [
        {
          "output_type": "execute_result",
          "data": {
            "application/vnd.google.colaboratory.intrinsic+json": {
              "type": "string"
            },
            "text/plain": [
              "'new'"
            ]
          },
          "metadata": {
            "tags": []
          },
          "execution_count": 5
        }
      ]
    },
    {
      "cell_type": "code",
      "metadata": {
        "id": "J3N7qqX9Hu49",
        "colab": {
          "base_uri": "https://localhost:8080/"
        },
        "outputId": "92c91be2-fb3a-444f-f252-f25faf0162ad"
      },
      "source": [
        "class Tweet:\r\n",
        "    def __init__(self, message, time):\r\n",
        "        self.message = message\r\n",
        "        self.time = time\r\n",
        "\r\n",
        "    def __lt__(self, other):\r\n",
        "        return self.time < other.time\r\n",
        "        \r\n",
        "    def __contains__(self, word):\r\n",
        "        return word in self.message\r\n",
        "    def __mul__(self, other):\r\n",
        "        return self.time * other.time\r\n",
        "    def __truediv__(self, other):\r\n",
        "        return self.time/other.time\r\n",
        "    def __floordiv__(self, other):\r\n",
        "        return self.time//other.time\r\n",
        "    \r\n",
        "\r\n",
        "tweet = \"I just flushed my toilet\"\r\n",
        "t=Tweet(tweet,10)\r\n",
        "t1=Tweet('hello',20)\r\n",
        "print('toilet' in t)\r\n",
        "print(t*t1)\r\n",
        "print(t/t1)\r\n",
        "print(t//t1)\r\n",
        "#now write code to check if the word \"flushed\" is in the tweet\r\n",
        "#and print something nice if that's the case"
      ],
      "execution_count": 20,
      "outputs": [
        {
          "output_type": "stream",
          "text": [
            "True\n",
            "200\n",
            "0.5\n",
            "0\n"
          ],
          "name": "stdout"
        }
      ]
    },
    {
      "cell_type": "code",
      "metadata": {
        "id": "D9yklZcZB4SN"
      },
      "source": [
        "Student \tMarks\tsub\r\n",
        "Mak\t22\tenglish\r\n",
        "Sam\t44\tMath\r\n",
        "Raj\t88\tSocial\r\n",
        "Bill\t99\tScience\r\n",
        "Tudu\t77\tFine Arts\r\n",
        "Frank\t88\tPsychology\r\n",
        "Bob\t55\tHumanity"
      ],
      "execution_count": null,
      "outputs": []
    }
  ]
}