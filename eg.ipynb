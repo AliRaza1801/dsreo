{
  "nbformat": 4,
  "nbformat_minor": 0,
  "metadata": {
    "colab": {
      "name": "Untitled0.ipynb",
      "provenance": [],
      "collapsed_sections": [],
      "authorship_tag": "ABX9TyOlzP1pvGMMHftfR3ZfwhVu",
      "include_colab_link": true
    },
    "kernelspec": {
      "name": "python3",
      "display_name": "Python 3"
    }
  },
  "cells": [
    {
      "cell_type": "markdown",
      "metadata": {
        "id": "view-in-github",
        "colab_type": "text"
      },
      "source": [
        "<a href=\"https://colab.research.google.com/github/AliRaza1801/dsrepo/blob/main/eg.ipynb\" target=\"_parent\"><img src=\"https://colab.research.google.com/assets/colab-badge.svg\" alt=\"Open In Colab\"/></a>"
      ]
    },
    {
      "cell_type": "code",
      "metadata": {
        "id": "YPWpnl8ge79B",
        "colab": {
          "base_uri": "https://localhost:8080/"
        },
        "outputId": "88563024-1247-4689-e6f6-b8042231253b"
      },
      "source": [
        "def f(l):\r\n",
        "  l\r\n",
        "  print(l)\r\n",
        "abc=2\r\n",
        "f(abc)\r\n",
        "print(abc)"
      ],
      "execution_count": null,
      "outputs": [
        {
          "output_type": "stream",
          "text": [
            "['a', 'b', 'c', 'a']\n",
            "['a', 'b', 'c', 'a']\n"
          ],
          "name": "stdout"
        }
      ]
    },
    {
      "cell_type": "code",
      "metadata": {
        "id": "ClFAZN6i1_cx",
        "colab": {
          "base_uri": "https://localhost:8080/",
          "height": 35
        },
        "outputId": "c206d501-0ef7-4cde-fe13-999855717bca"
      },
      "source": [
        "class ab:\r\n",
        "  __b='name'\r\n",
        "  _bb='new'\r\n",
        "  bbb=__b\r\n",
        "  m=_bb\r\n",
        "  def __init__(x,name=None,age=None):\r\n",
        "    x.name='ali'\r\n",
        "    x.age=12\r\n",
        "a=ab()\r\n",
        "a.m"
      ],
      "execution_count": 5,
      "outputs": [
        {
          "output_type": "execute_result",
          "data": {
            "application/vnd.google.colaboratory.intrinsic+json": {
              "type": "string"
            },
            "text/plain": [
              "'new'"
            ]
          },
          "metadata": {
            "tags": []
          },
          "execution_count": 5
        }
      ]
    },
    {
      "cell_type": "code",
      "metadata": {
        "id": "J3N7qqX9Hu49",
        "colab": {
          "base_uri": "https://localhost:8080/",
          "height": 265
        },
        "outputId": "d42a5227-94c2-42ea-af75-103685cde482"
      },
      "source": [
        "class Tweet:\r\n",
        "    def __init__(self, message, time):\r\n",
        "        self.message = message\r\n",
        "        self.time = time\r\n",
        "\r\n",
        "    def __lt__(self, other):\r\n",
        "        return self.time < other.time\r\n",
        "        \r\n",
        "    def __contains__(self, word):\r\n",
        "        return word in self.message\r\n",
        "    def __mul__(self, other):\r\n",
        "        return self.time * other.time\r\n",
        "    def __floordiv__(self, other):\r\n",
        "        return self.time//other.time\r\n",
        "    \r\n",
        "\r\n",
        "tweet = \"I just flushed my toilet\"\r\n",
        "t=Tweet(tweet,10)\r\n",
        "t1=Tweet('hello',20)\r\n",
        "print('toilet' in t)\r\n",
        "print(t*t1)\r\n",
        "print(t//t1)\r\n",
        "#now write code to check if the word \"flushed\" is in the tweet\r\n",
        "#and print something nice if that's the case"
      ],
      "execution_count": 18,
      "outputs": [
        {
          "output_type": "stream",
          "text": [
            "True\n",
            "200\n"
          ],
          "name": "stdout"
        },
        {
          "output_type": "error",
          "ename": "TypeError",
          "evalue": "ignored",
          "traceback": [
            "\u001b[0;31m---------------------------------------------------------------------------\u001b[0m",
            "\u001b[0;31mTypeError\u001b[0m                                 Traceback (most recent call last)",
            "\u001b[0;32m<ipython-input-18-96831924819d>\u001b[0m in \u001b[0;36m<module>\u001b[0;34m()\u001b[0m\n\u001b[1;32m     22\u001b[0m \u001b[0mprint\u001b[0m\u001b[0;34m(\u001b[0m\u001b[0;34m'toilet'\u001b[0m \u001b[0;32min\u001b[0m \u001b[0mt\u001b[0m\u001b[0;34m)\u001b[0m\u001b[0;34m\u001b[0m\u001b[0;34m\u001b[0m\u001b[0m\n\u001b[1;32m     23\u001b[0m \u001b[0mprint\u001b[0m\u001b[0;34m(\u001b[0m\u001b[0mt\u001b[0m\u001b[0;34m*\u001b[0m\u001b[0mt1\u001b[0m\u001b[0;34m)\u001b[0m\u001b[0;34m\u001b[0m\u001b[0;34m\u001b[0m\u001b[0m\n\u001b[0;32m---> 24\u001b[0;31m \u001b[0mprint\u001b[0m\u001b[0;34m(\u001b[0m\u001b[0mt\u001b[0m\u001b[0;34m/\u001b[0m\u001b[0mt1\u001b[0m\u001b[0;34m)\u001b[0m\u001b[0;34m\u001b[0m\u001b[0;34m\u001b[0m\u001b[0m\n\u001b[0m\u001b[1;32m     25\u001b[0m \u001b[0mprint\u001b[0m\u001b[0;34m(\u001b[0m\u001b[0mt\u001b[0m\u001b[0;34m//\u001b[0m\u001b[0mt1\u001b[0m\u001b[0;34m)\u001b[0m\u001b[0;34m\u001b[0m\u001b[0;34m\u001b[0m\u001b[0m\n\u001b[1;32m     26\u001b[0m \u001b[0;31m#now write code to check if the word \"flushed\" is in the tweet\u001b[0m\u001b[0;34m\u001b[0m\u001b[0;34m\u001b[0m\u001b[0;34m\u001b[0m\u001b[0m\n",
            "\u001b[0;31mTypeError\u001b[0m: unsupported operand type(s) for /: 'Tweet' and 'Tweet'"
          ]
        }
      ]
    },
    {
      "cell_type": "code",
      "metadata": {
        "id": "D9yklZcZB4SN"
      },
      "source": [
        ""
      ],
      "execution_count": null,
      "outputs": []
    }
  ]
}