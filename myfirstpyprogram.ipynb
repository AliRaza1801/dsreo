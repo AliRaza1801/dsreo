{
  "nbformat": 4,
  "nbformat_minor": 0,
  "metadata": {
    "colab": {
      "name": "myfirstpyprogram.ipynb",
      "provenance": [],
      "collapsed_sections": [],
      "authorship_tag": "ABX9TyN5EBsxzqBtFHCGrEQ0DJ41",
      "include_colab_link": true
    },
    "kernelspec": {
      "name": "python3",
      "display_name": "Python 3"
    }
  },
  "cells": [
    {
      "cell_type": "markdown",
      "metadata": {
        "id": "view-in-github",
        "colab_type": "text"
      },
      "source": [
        "<a href=\"https://colab.research.google.com/github/AliRaza1801/dsrepo/blob/main/myfirstpyprogram.ipynb\" target=\"_parent\"><img src=\"https://colab.research.google.com/assets/colab-badge.svg\" alt=\"Open In Colab\"/></a>"
      ]
    },
    {
      "cell_type": "markdown",
      "metadata": {
        "id": "vlNi2u7FA5bt"
      },
      "source": [
        ""
      ]
    },
    {
      "cell_type": "code",
      "metadata": {
        "colab": {
          "base_uri": "https://localhost:8080/",
          "height": 35
        },
        "id": "RZ3cb_yhss93",
        "outputId": "8ee57623-b4c0-4694-e30f-4d3885ad5803"
      },
      "source": [
        "n1='ali'\r\n",
        "n2='raza'\r\n",
        "'hello {} {}, how are you'.format(n1,n2)\r\n",
        "'hello {1} {0}, how are you'.format(n1,n2)"
      ],
      "execution_count": 7,
      "outputs": [
        {
          "output_type": "execute_result",
          "data": {
            "application/vnd.google.colaboratory.intrinsic+json": {
              "type": "string"
            },
            "text/plain": [
              "'hello raza ali, how are you'"
            ]
          },
          "metadata": {
            "tags": []
          },
          "execution_count": 7
        }
      ]
    },
    {
      "cell_type": "code",
      "metadata": {
        "colab": {
          "base_uri": "https://localhost:8080/",
          "height": 35
        },
        "id": "kox7r4pg6aQv",
        "outputId": "0ae56801-675d-4cde-f180-b4ae26efb95f"
      },
      "source": [
        "n1='ali'\r\n",
        "n2='raza'\r\n",
        "f'hello {n1} {n2}, how are you'"
      ],
      "execution_count": 11,
      "outputs": [
        {
          "output_type": "execute_result",
          "data": {
            "application/vnd.google.colaboratory.intrinsic+json": {
              "type": "string"
            },
            "text/plain": [
              "'hello ali raza, how are you'"
            ]
          },
          "metadata": {
            "tags": []
          },
          "execution_count": 11
        }
      ]
    },
    {
      "cell_type": "code",
      "metadata": {
        "colab": {
          "base_uri": "https://localhost:8080/",
          "height": 35
        },
        "id": "GwHhX3h37hYA",
        "outputId": "0789d45d-c7af-4d90-d5b4-16081b11959d"
      },
      "source": [
        "n1='ali'\r\n",
        "n2='raza'\r\n",
        "f'hello {n1.upper()} {n2.upper()}, how are you'"
      ],
      "execution_count": 13,
      "outputs": [
        {
          "output_type": "execute_result",
          "data": {
            "application/vnd.google.colaboratory.intrinsic+json": {
              "type": "string"
            },
            "text/plain": [
              "'hello ALI RAZA, how are you'"
            ]
          },
          "metadata": {
            "tags": []
          },
          "execution_count": 13
        }
      ]
    },
    {
      "cell_type": "code",
      "metadata": {
        "colab": {
          "base_uri": "https://localhost:8080/",
          "height": 35
        },
        "id": "uQmC_EtW7U8m",
        "outputId": "1caa11c3-5dc0-44e7-e6cd-d09af7b9fad9"
      },
      "source": [
        "f'{2*32}'"
      ],
      "execution_count": 12,
      "outputs": [
        {
          "output_type": "execute_result",
          "data": {
            "application/vnd.google.colaboratory.intrinsic+json": {
              "type": "string"
            },
            "text/plain": [
              "'64'"
            ]
          },
          "metadata": {
            "tags": []
          },
          "execution_count": 12
        }
      ]
    },
    {
      "cell_type": "code",
      "metadata": {
        "colab": {
          "base_uri": "https://localhost:8080/",
          "height": 35
        },
        "id": "XR4ox0ac4iI6",
        "outputId": "4e3efb07-0212-4b6a-ce69-c1cef6011cc7"
      },
      "source": [
        "fullname={'firstname':'ali','lastname':'raza'}\r\n",
        "'hello {fname} {lname}, how are you'.format(fname=fullname['firstname'],lname=fullname['lastname'])"
      ],
      "execution_count": 8,
      "outputs": [
        {
          "output_type": "execute_result",
          "data": {
            "application/vnd.google.colaboratory.intrinsic+json": {
              "type": "string"
            },
            "text/plain": [
              "'hello ali raza, how are you'"
            ]
          },
          "metadata": {
            "tags": []
          },
          "execution_count": 8
        }
      ]
    },
    {
      "cell_type": "code",
      "metadata": {
        "colab": {
          "base_uri": "https://localhost:8080/",
          "height": 35
        },
        "id": "oRSNd9L_5Sf6",
        "outputId": "3c9a0f94-9f07-40a1-da82-4d9f141961e2"
      },
      "source": [
        "fullname={'firstname':'ali','lastname':'raza'}\r\n",
        "'hello {firstname} {lastname}, how are you'.format(**fullname)"
      ],
      "execution_count": 10,
      "outputs": [
        {
          "output_type": "execute_result",
          "data": {
            "application/vnd.google.colaboratory.intrinsic+json": {
              "type": "string"
            },
            "text/plain": [
              "'hello ali raza, how are you'"
            ]
          },
          "metadata": {
            "tags": []
          },
          "execution_count": 10
        }
      ]
    },
    {
      "cell_type": "code",
      "metadata": {
        "colab": {
          "base_uri": "https://localhost:8080/",
          "height": 35
        },
        "id": "iPu7NmCcstZ_",
        "outputId": "76bd85e9-e41a-4e62-cbe7-b5ccb2008a6f"
      },
      "source": [
        "name='ali'\r\n",
        "'hello %s'%name"
      ],
      "execution_count": 5,
      "outputs": [
        {
          "output_type": "execute_result",
          "data": {
            "application/vnd.google.colaboratory.intrinsic+json": {
              "type": "string"
            },
            "text/plain": [
              "'hello ali'"
            ]
          },
          "metadata": {
            "tags": []
          },
          "execution_count": 5
        }
      ]
    },
    {
      "cell_type": "code",
      "metadata": {
        "colab": {
          "base_uri": "https://localhost:8080/",
          "height": 35
        },
        "id": "-DnNUZNrA6gA",
        "outputId": "69556e59-45f8-4807-d5e3-c2b7f5fca7f4"
      },
      "source": [
        "'Hello World'\r\n",
        "\"i am new to pyhon\""
      ],
      "execution_count": null,
      "outputs": [
        {
          "output_type": "execute_result",
          "data": {
            "application/vnd.google.colaboratory.intrinsic+json": {
              "type": "string"
            },
            "text/plain": [
              "'i am new to pyhon'"
            ]
          },
          "metadata": {
            "tags": []
          },
          "execution_count": 4
        }
      ]
    },
    {
      "cell_type": "code",
      "metadata": {
        "colab": {
          "base_uri": "https://localhost:8080/"
        },
        "id": "MQoQpH6VBHjw",
        "outputId": "40485721-f562-4264-d24c-389722e9fc75"
      },
      "source": [
        "print(\"Hello World\")\r\n",
        "print(\"Hello World\")"
      ],
      "execution_count": null,
      "outputs": [
        {
          "output_type": "stream",
          "text": [
            "Hello World\n",
            "Hello World\n"
          ],
          "name": "stdout"
        }
      ]
    },
    {
      "cell_type": "code",
      "metadata": {
        "colab": {
          "base_uri": "https://localhost:8080/"
        },
        "id": "8mlwI-cnCfvZ",
        "outputId": "2a6f418c-b769-45ec-dbe9-44f130a2ff87"
      },
      "source": [
        "print(\"Hello World\")\r\n",
        "print()\r\n",
        "print(\"Hello World\")"
      ],
      "execution_count": null,
      "outputs": [
        {
          "output_type": "stream",
          "text": [
            "Hello World\n",
            "\n",
            "Hello World\n"
          ],
          "name": "stdout"
        }
      ]
    },
    {
      "cell_type": "code",
      "metadata": {
        "colab": {
          "base_uri": "https://localhost:8080/",
          "height": 35
        },
        "id": "IenfRdYC_7eC",
        "outputId": "1526ade5-bf60-4a69-d0dc-de71d4b52db9"
      },
      "source": [
        "\"Hello World\""
      ],
      "execution_count": null,
      "outputs": [
        {
          "output_type": "execute_result",
          "data": {
            "application/vnd.google.colaboratory.intrinsic+json": {
              "type": "string"
            },
            "text/plain": [
              "'Hello World'"
            ]
          },
          "metadata": {
            "tags": []
          },
          "execution_count": 2
        }
      ]
    }
  ]
}